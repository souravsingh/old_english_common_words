{
 "cells": [
  {
   "cell_type": "code",
   "execution_count": 1,
   "metadata": {
    "collapsed": false
   },
   "outputs": [],
   "source": [
    "from __future__ import print_function, division\n",
    "from codecs import open\n",
    "import re\n",
    "from collections import Counter\n",
    "import matplotlib.pyplot as plt\n",
    "%matplotlib inline"
   ]
  },
  {
   "cell_type": "code",
   "execution_count": 19,
   "metadata": {
    "collapsed": false
   },
   "outputs": [],
   "source": [
    "import json\n",
    "with open('old-English-corpus.json','r','utf-8') as f : \n",
    "    texts = json.load(f)"
   ]
  },
  {
   "cell_type": "code",
   "execution_count": 20,
   "metadata": {
    "collapsed": false
   },
   "outputs": [],
   "source": [
    "alltext = '\\n'.join(t['text'] for t in texts)"
   ]
  },
  {
   "cell_type": "code",
   "execution_count": 21,
   "metadata": {
    "collapsed": false
   },
   "outputs": [
    {
     "name": "stdout",
     "output_type": "stream",
     "text": [
      "Her ys seo bot, hu Ã°u meaht Ã¾ine Ã¦ceras betan gif hi\n",
      "nellaÃ¾ wel wexan oÃ¾Ã¾e Ã¾Ã¦r hwilc ungedefe Ã¾ing on gedon biÃ°\n",
      "on dry oÃ°Ã°e on lyblace. Genim Ã¾onne on niht, Ã¦r hyt\n",
      "dagige, feower tyrf on feower healfa Ã¾Ã¦s landes, and gemearca\n",
      "hu hy Ã¦r stodon. Nim Ã¾onne ele and hunig and beorman,\n",
      "and Ã¦lces feos meolc Ã¾e on Ã¾Ã¦m lande sy, and Ã¦lces treow-\n",
      "cynnes dÃ¦l Ã¾e on Ã¾Ã¦m lande sy gewexen, butan heardan\n",
      "beaman, a\n"
     ]
    }
   ],
   "source": [
    "print(alltext[:400])"
   ]
  },
  {
   "cell_type": "code",
   "execution_count": 22,
   "metadata": {
    "collapsed": false
   },
   "outputs": [],
   "source": [
    "words = re.findall(ur'\\w+',alltext,re.UNICODE)\n",
    "from collections import Counter\n",
    "\n",
    "\n",
    "freqs = Counter(words)\n",
    "freqs.most_common(20)\n",
    "N = 160\n",
    "cwords, c = zip(*freqs.most_common(N))"
   ]
  },
  {
   "cell_type": "code",
   "execution_count": 23,
   "metadata": {
    "collapsed": false
   },
   "outputs": [
    {
     "data": {
      "image/png": "iVBORw0KGgoAAAANSUhEUgAAAXsAAAD9CAYAAABdoNd6AAAABHNCSVQICAgIfAhkiAAAAAlwSFlz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\nwh4AFOD/AYvTIhTf9QZWAAAAAElFTkSuQmCC\n",
      "text/plain": [
       "<matplotlib.figure.Figure at 0x5a0d090>"
      ]
     },
     "metadata": {},
     "output_type": "display_data"
    },
    {
     "name": "stdout",
     "output_type": "stream",
     "text": [
      "140\n",
      "and\n",
      "on\n",
      "Ã¾onne\n",
      "wiÃ°\n",
      "Ã¾Ã¦t\n",
      "to\n",
      "ne\n",
      "Ã¾e\n",
      "ic\n",
      "Ã¾a\n",
      "heo\n",
      "me\n",
      "swa\n",
      "Ã¾is\n",
      "him\n",
      "Ã¾u\n",
      "Ã°e\n",
      "attre\n",
      "ofer\n",
      "mid\n",
      "Ã¾riwa\n",
      "seo\n",
      "man\n",
      "hit\n",
      "Ã¾as\n",
      "cweÃ°\n",
      "se\n",
      "his\n",
      "in\n",
      "Ã°a\n",
      "sy\n",
      "he\n",
      "oÃ°Ã°e\n",
      "Ã°y\n",
      "Ã¾Ã¦s\n",
      "III\n",
      "Ã¦r\n",
      "Ã¾Ã¦r\n",
      "wÃ¦re\n",
      "bote\n",
      "Ã°onne\n",
      "nÃ¦fre\n",
      "hy\n",
      "Ã¾one\n",
      "word\n",
      "feoh\n",
      "cweÃ¾e\n",
      "Ã°u\n",
      "mÃ¦g\n",
      "ga\n",
      "ge\n",
      "Ã°as\n",
      "bidde\n",
      "et\n",
      "eorÃ¾an\n",
      "Ã¾Ã¦re\n",
      "drihten\n",
      "of\n",
      "gif\n",
      "ab\n",
      "Ã¾Ã¦m\n",
      "under\n",
      "wiÃ¾\n",
      "spere\n",
      "geond\n",
      "VIIII\n",
      "wyrta\n",
      "Ã°is\n",
      "do\n",
      "Ã¾am\n",
      "galdor\n",
      "hwÃ¦t\n",
      "her\n",
      "godes\n",
      "nu\n",
      "hyre\n",
      "haligan\n",
      "ealra\n",
      "eallum\n",
      "rode\n",
      "nygon\n",
      "sceal\n",
      "si\n",
      "laÃ¾an\n",
      "lytel\n",
      "Ã¦t\n",
      "nÃ¦s\n",
      "Ã°in\n",
      "modor\n",
      "dÃ¦d\n",
      "inne\n",
      "dÃ¦l\n",
      "attor\n",
      "Ã¾Ã¦nne\n",
      "wille\n",
      "mote\n",
      "is\n",
      "engla\n",
      "feower\n",
      "mon\n",
      "crux\n",
      "scoten\n",
      "biÃ°\n",
      "lande\n",
      "cume\n",
      "hi\n",
      "reducat\n",
      "land\n",
      "Ã¾urh\n",
      "Ã¦rest\n",
      "mannes\n",
      "Ã¾eos\n",
      "forholen\n",
      "gescot\n",
      "nime\n",
      "handa\n",
      "mete\n",
      "hand\n",
      "turf\n",
      "lond\n",
      "bearn\n",
      "Ã¦fter\n",
      "Ã¾ane\n",
      "Ã¾ara\n",
      "hÃ¦gtessan\n",
      "eal\n",
      "gescotes\n",
      "afedan\n",
      "sapan\n",
      "onflyge\n",
      "oÃ¾er\n",
      "hatte\n",
      "eare\n",
      "Ã¾an\n",
      "are\n",
      "com\n",
      "ealle\n",
      "sanctus\n",
      "Ã¦nig\n",
      "wegbrade\n"
     ]
    }
   ],
   "source": [
    "plt.figure()\n",
    "plt.bar(range(N),c)\n",
    "# plt.xticks(range(N),cwords)\n",
    "plt.show()\n",
    "ncwords = [c for c in cwords if not any(w.isdigit() for w in c)\n",
    "                              if not c.istitle()]\n",
    "print(len(ncwords))\n",
    "print(u'\\n'.join(ncwords))"
   ]
  },
  {
   "cell_type": "code",
   "execution_count": null,
   "metadata": {
    "collapsed": true
   },
   "outputs": [],
   "source": []
  }
 ],
 "metadata": {
  "kernelspec": {
   "display_name": "Python 2",
   "language": "python",
   "name": "python2"
  },
  "language_info": {
   "codemirror_mode": {
    "name": "ipython",
    "version": 2
   },
   "file_extension": ".py",
   "mimetype": "text/x-python",
   "name": "python",
   "nbconvert_exporter": "python",
   "pygments_lexer": "ipython2",
   "version": "2.7.5"
  }
 },
 "nbformat": 4,
 "nbformat_minor": 0
